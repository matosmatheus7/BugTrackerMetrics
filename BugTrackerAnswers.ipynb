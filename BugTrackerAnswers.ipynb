{
 "cells": [
  {
   "attachments": {},
   "cell_type": "markdown",
   "metadata": {},
   "source": [
    "# Capturing Knowledge from BugTracker data"
   ]
  },
  {
   "attachments": {},
   "cell_type": "markdown",
   "metadata": {},
   "source": [
    "### Populating the Database with mock data"
   ]
  },
  {
   "cell_type": "code",
   "execution_count": 1,
   "metadata": {},
   "outputs": [
    {
     "name": "stdout",
     "output_type": "stream",
     "text": [
      "Collecting mysql-connector\n",
      "  Downloading mysql-connector-2.2.9.tar.gz (11.9 MB)\n",
      "\u001b[2K     \u001b[90m━━━━━━━━━━━━━━━━━━━━━━━━━━━━━━━━━━━━━━━━\u001b[0m \u001b[32m11.9/11.9 MB\u001b[0m \u001b[31m35.9 MB/s\u001b[0m eta \u001b[36m0:00:00\u001b[0m00:01\u001b[0m0:01\u001b[0m\n",
      "\u001b[?25h  Preparing metadata (setup.py) ... \u001b[?25ldone\n",
      "\u001b[?25hBuilding wheels for collected packages: mysql-connector\n",
      "  Building wheel for mysql-connector (setup.py) ... \u001b[?25ldone\n",
      "\u001b[?25h  Created wheel for mysql-connector: filename=mysql_connector-2.2.9-cp37-cp37m-linux_x86_64.whl size=247950 sha256=4abd13b50d0e361ab65b09e5fbf2e68cef348bb3dc0de8549bf00c8193ac1307\n",
      "  Stored in directory: /home/jupyter/.cache/pip/wheels/42/2f/c3/692fc7fc1f0d8c06b9175d94f0fc30f4f92348f5df5af1b8b7\n",
      "Successfully built mysql-connector\n",
      "Installing collected packages: mysql-connector\n",
      "Successfully installed mysql-connector-2.2.9\n",
      "populating database...\n",
      "data insert complete\n"
     ]
    }
   ],
   "source": [
    "# create database and table schema\n",
    "! pip install mysql-connector\n",
    "\n",
    "import mysql.connector\n",
    "\n",
    "# make sure the host matches your GCP instance along with the password created earlier.\n",
    "host = \"35.223.10.112\"\n",
    "db = mysql.connector.connect(\n",
    "  host=host,\n",
    "  user=\"root\",\n",
    "  passwd=\"superadmin123\"\n",
    ")\n",
    "\n",
    "cursor = db.cursor()\n",
    "\n",
    "# drop/create/insert database\n",
    "with open('./data_files/lab9/data.sql') as f:\n",
    "    commands = f.read().split(';')\n",
    "    f.close()\n",
    "    print('populating database...')\n",
    "    for command in commands:\n",
    "        try:\n",
    "            if command.strip() != '':\n",
    "                cursor.execute(command)\n",
    "        except:\n",
    "            print('[ERROR]:', command)\n",
    "    db.commit()\n",
    "    print('data insert complete')\n",
    "\n",
    "cursor.close()\n",
    "db.close()"
   ]
  },
  {
   "attachments": {},
   "cell_type": "markdown",
   "metadata": {},
   "source": [
    "Small test query to make sure the data was populated correctly."
   ]
  },
  {
   "cell_type": "code",
   "execution_count": 2,
   "metadata": {},
   "outputs": [
    {
     "name": "stdout",
     "output_type": "stream",
     "text": [
      "(53, \"asset's labeled hearsay E's\", 'adora.laden@example.org')\n",
      "(665, 'chain outing yacks crook', 'jacinthe.sheriff@example.org')\n",
      "(377, 'built elk boldness pi', 'christoffer.twinbourne@example.org')\n",
      "(61, 'exile ten clone ewe', 'aeriela.tixall@example.org')\n",
      "(632, 'stable huh yard clubs', 'aeriela.tixall@example.org')\n"
     ]
    }
   ],
   "source": [
    "db = mysql.connector.connect(\n",
    "  host=host,\n",
    "  user=\"root\",\n",
    "  passwd=\"superadmin123\",\n",
    "  database=\"bug_tracker_aggregate\"\n",
    ")\n",
    "\n",
    "cursor = db.cursor()\n",
    "# cursor.execute('SELECT t.id, t.title, u.email FROM tickets t INNER JOIN users u ON t.assignee=u.id ORDER BY RAND() LIMIT 5')\n",
    "cursor.execute('SELECT t.id, t.title, u.email FROM tickets t INNER JOIN users u ON t.assignee=u.id ORDER BY RAND() LIMIT 5')\n",
    "print(*cursor.fetchall(), sep='\\n')\n",
    "\n",
    "cursor.close()\n",
    "db.close()"
   ]
  },
  {
   "attachments": {},
   "cell_type": "markdown",
   "metadata": {},
   "source": [
    "Here's the CREATE query for the `users` and `tickets` tables in our database.\n",
    "\n",
    "```sql\n",
    "CREATE TABLE IF NOT EXISTS users (\n",
    "  id INT AUTO_INCREMENT PRIMARY KEY,\n",
    "  first_name VARCHAR(30),\n",
    "  last_name VARCHAR(30),\n",
    "  email VARCHAR(80) UNIQUE\n",
    ") ENGINE=InnoDB;\n",
    "\n",
    "CREATE TABLE IF NOT EXISTS tickets (\n",
    "  id INT AUTO_INCREMENT PRIMARY KEY,\n",
    "  title VARCHAR(128),\n",
    "  project VARCHAR(64) NOT NULL,\n",
    "  assignee INT,\n",
    "  description TEXT,\n",
    "  date_created DATETIME DEFAULT CURRENT_TIMESTAMP,\n",
    "  date_updated DATETIME DEFAULT CURRENT_TIMESTAMP,\n",
    "  date_completed DATETIME NULL DEFAULT NULL,\n",
    "  FOREIGN KEY fk_assignee_id(assignee) REFERENCES users(id)\n",
    ") ENGINE=InnoDB;\n",
    "```"
   ]
  },
  {
   "attachments": {},
   "cell_type": "markdown",
   "metadata": {},
   "source": [
    "To successfully conclude this test, we'll need to answer the following questions:\n",
    "\n",
    "- How many tickets are open/closed?\n",
    "- Who has the most tickets assigned?\n",
    "- What is the longest time taken to complete a task?\n",
    "- What is the average time to close a ticket?\n",
    "- How many tickets we're completed in less than 10 days?\n",
    "- Find tickets that took _more than 80 days_ to complete.\n",
    "- How can you find tickets that were updated before July 10th, 2020 but not more than one month before?\n",
    "\n",
    "One requirement is to answer this question doing all of the computations within MySQL, and python will only be our conduit to execute our queries."
   ]
  },
  {
   "attachments": {},
   "cell_type": "markdown",
   "metadata": {},
   "source": [
    "## Question 1: _How many tickets are open/closed?_"
   ]
  },
  {
   "cell_type": "code",
   "execution_count": 3,
   "metadata": {},
   "outputs": [
    {
     "name": "stdout",
     "output_type": "stream",
     "text": [
      "Tickets Open: 413\n",
      "Tickets Closed: 587\n"
     ]
    }
   ],
   "source": [
    "db = mysql.connector.connect(\n",
    "  host=host,\n",
    "  user=\"root\",\n",
    "  passwd=\"superadmin123\",\n",
    "  database=\"bug_tracker_aggregate\"\n",
    ")\n",
    "\n",
    "cursor = db.cursor(dictionary=True)\n",
    "\n",
    "# get number of tickets open\n",
    "cursor.execute('SELECT COUNT(*) AS tickets_open FROM tickets t WHERE t.date_completed IS NULL')\n",
    "tickets_open = cursor.fetchone()['tickets_open']\n",
    "\n",
    "# get number of tickets closed\n",
    "cursor.execute('SELECT COUNT(*) AS tickets_closed FROM tickets t WHERE t.date_completed IS NOT NULL')\n",
    "tickets_closed = cursor.fetchone()['tickets_closed']\n",
    "\n",
    "print('Tickets Open: {}\\nTickets Closed: {}'.format(tickets_open, tickets_closed))\n",
    "\n",
    "cursor.close()\n",
    "db.close()"
   ]
  },
  {
   "attachments": {},
   "cell_type": "markdown",
   "metadata": {},
   "source": [
    "### Using a Single Query"
   ]
  },
  {
   "cell_type": "code",
   "execution_count": 4,
   "metadata": {},
   "outputs": [
    {
     "name": "stdout",
     "output_type": "stream",
     "text": [
      "Tickets Open: 413\n",
      "Tickets Closed: 587\n"
     ]
    }
   ],
   "source": [
    "db = mysql.connector.connect(\n",
    "  host=host,\n",
    "  user=\"root\",\n",
    "  passwd=\"superadmin123\",\n",
    "  database=\"bug_tracker_aggregate\"\n",
    ")\n",
    "\n",
    "cursor = db.cursor(dictionary=True)\n",
    "\n",
    "# Enter the single line query SQL below using cursor.execute()\n",
    "cursor.execute(\"SELECT SUM(CASE WHEN t.date_completed IS NULL THEN 1 ELSE 0 END) AS 'tickets_open', SUM(CASE WHEN t.date_completed IS NULL THEN 0 ELSE 1 END) AS 'tickets_closed' FROM tickets t\")\n",
    "\n",
    "result = cursor.fetchone()\n",
    "\n",
    "# get number of tickets open\n",
    "tickets_open = result['tickets_open']\n",
    "\n",
    "# get number of tickets closed\n",
    "tickets_closed = result['tickets_closed']\n",
    "\n",
    "print('Tickets Open: {}\\nTickets Closed: {}'.format(tickets_open, tickets_closed))\n",
    "\n",
    "cursor.close()\n",
    "db.close()"
   ]
  },
  {
   "attachments": {},
   "cell_type": "markdown",
   "metadata": {},
   "source": [
    "## Question 2: _Who has the most tickets assigned?_"
   ]
  },
  {
   "cell_type": "code",
   "execution_count": 56,
   "metadata": {},
   "outputs": [
    {
     "name": "stdout",
     "output_type": "stream",
     "text": [
      "{'name': 'Haskell Cardenoso', 'email': 'haskell.cardenoso@example.org', 'ticket_count': 64}\n"
     ]
    }
   ],
   "source": [
    "db = mysql.connector.connect(\n",
    "  host=host,\n",
    "  user=\"root\",\n",
    "  passwd=\"superadmin123\",\n",
    "  database=\"bug_tracker_aggregate\"\n",
    ")\n",
    "\n",
    "cursor = db.cursor(dictionary=True)\n",
    "\n",
    "query = '''\n",
    "SELECT\n",
    "    CONCAT(u.first_name, ' ', u.last_name) AS name,\n",
    "    u.email, \n",
    "    COUNT(t.id) AS ticket_count\n",
    "FROM tickets t\n",
    "INNER JOIN users u ON u.id=t.assignee \n",
    "GROUP BY t.assignee \n",
    "ORDER BY ticket_count DESC\n",
    "LIMIT 1;\n",
    "'''\n",
    "\n",
    "# execute the query\n",
    "cursor.execute(query)\n",
    "\n",
    "print(*cursor.fetchall(), sep='\\n')\n",
    "cursor.close()\n",
    "db.close()"
   ]
  },
  {
   "attachments": {},
   "cell_type": "markdown",
   "metadata": {},
   "source": [
    "### Question 2.1: _Update the SQL query to determine who has the _most closed tickets_ and who has the _most open tickets_."
   ]
  },
  {
   "cell_type": "code",
   "execution_count": null,
   "metadata": {},
   "outputs": [],
   "source": [
    "db = mysql.connector.connect(\n",
    "  host=host,\n",
    "  user=\"root\",\n",
    "  passwd=\"superadmin123\",\n",
    "  database=\"bug_tracker_aggregate\"\n",
    ")\n",
    "\n",
    "cursor = db.cursor(dictionary=True)\n",
    "\n",
    "query = '''\n",
    "SELECT\n",
    "    CONCAT(u.first_name, ' ', u.last_name) AS name,\n",
    "    u.email, \n",
    "    SUM(CASE WHEN t.date_completed IS NOT NULL THEN 1 ELSE 0 END) AS closed_tickets\n",
    "FROM tickets t\n",
    "INNER JOIN users u ON u.id=t.assignee \n",
    "GROUP BY t.assignee \n",
    "ORDER BY closed_tickets DESC\n",
    "LIMIT 1;\n",
    "'''\n",
    "\n",
    "# execute the query\n",
    "cursor.execute(query)\n",
    "\n",
    "print(*cursor.fetchall(), sep='\\n')\n",
    "cursor.close()\n",
    "db.close()"
   ]
  },
  {
   "attachments": {},
   "cell_type": "markdown",
   "metadata": {},
   "source": [
    "## Question 3: _What is the longest time taken to complete a task?_"
   ]
  },
  {
   "cell_type": "code",
   "execution_count": null,
   "metadata": {},
   "outputs": [
    {
     "name": "stdout",
     "output_type": "stream",
     "text": [
      "{'completed': 90}\n"
     ]
    }
   ],
   "source": [
    "db = mysql.connector.connect(\n",
    "  host=host,\n",
    "  user=\"root\",\n",
    "  passwd=\"superadmin123\",\n",
    "  database=\"bug_tracker_aggregate\"\n",
    ")\n",
    "\n",
    "cursor = db.cursor(dictionary=True)\n",
    "\n",
    "# query to answer the question\n",
    "query = '''\n",
    "SELECT\n",
    "    DATEDIFF(t.date_completed, t.date_created) AS completed\n",
    "FROM tickets t\n",
    "WHERE t.date_completed IS NOT NULL\n",
    "ORDER BY completed DESC\n",
    "LIMIT 1\n",
    "'''\n",
    "\n",
    "cursor.execute(query)\n",
    "\n",
    "print(*cursor.fetchall(), sep='\\n')\n",
    "cursor.close()\n",
    "db.close()"
   ]
  },
  {
   "attachments": {},
   "cell_type": "markdown",
   "metadata": {},
   "source": [
    "## Question 4: _What is the average time to close a ticket?_"
   ]
  },
  {
   "cell_type": "code",
   "execution_count": 61,
   "metadata": {},
   "outputs": [
    {
     "name": "stdout",
     "output_type": "stream",
     "text": [
      "{'avg_completion_time': Decimal('44.9029')}\n"
     ]
    }
   ],
   "source": [
    "db = mysql.connector.connect(\n",
    "  host=host,\n",
    "  user=\"root\",\n",
    "  passwd=\"superadmin123\",\n",
    "  database=\"bug_tracker_aggregate\"\n",
    ")\n",
    "\n",
    "cursor = db.cursor(dictionary=True)\n",
    "\n",
    "# query to answer the question\n",
    "query = '''\n",
    "SELECT\n",
    "    AVG( DATEDIFF(t.date_completed, t.date_created) ) AS avg_completion_time\n",
    "FROM tickets t \n",
    "WHERE t.date_completed IS NOT NULL\n",
    "'''\n",
    "\n",
    "cursor.execute(query)\n",
    "\n",
    "print(*cursor.fetchall(), sep='\\n')\n",
    "cursor.close()\n",
    "db.close()"
   ]
  },
  {
   "attachments": {},
   "cell_type": "markdown",
   "metadata": {},
   "source": [
    "## Question 4.1: _Notice how the result has four decimal places? Use MySQL to format the result to two decimal places._"
   ]
  },
  {
   "cell_type": "code",
   "execution_count": null,
   "metadata": {},
   "outputs": [],
   "source": [
    "db = mysql.connector.connect(\n",
    "  host=host,\n",
    "  user=\"root\",\n",
    "  passwd=\"superadmin123\",\n",
    "  database=\"bug_tracker_aggregate\"\n",
    ")\n",
    "\n",
    "cursor = db.cursor(dictionary=True)\n",
    "\n",
    "# query to answer the question\n",
    "query = '''\n",
    "SELECT\n",
    "    TRUNCATE( AVG( DATEDIFF(t.date_completed, t.date_created) ), 2) AS avg_completion_time\n",
    "FROM tickets t \n",
    "WHERE t.date_completed IS NOT NULL\n",
    "'''\n",
    "\n",
    "cursor.execute(query)\n",
    "\n",
    "print(*cursor.fetchall(), sep='\\n')\n",
    "cursor.close()\n",
    "db.close()"
   ]
  },
  {
   "attachments": {},
   "cell_type": "markdown",
   "metadata": {},
   "source": [
    "## Question 5: _How many tickets were completed in less than 10 days?_"
   ]
  },
  {
   "cell_type": "code",
   "execution_count": 81,
   "metadata": {},
   "outputs": [
    {
     "name": "stdout",
     "output_type": "stream",
     "text": [
      "{'ticket_count': 73}"
     ]
    }
   ],
   "source": [
    "db = mysql.connector.connect(\n",
    "  host=host,\n",
    "  user=\"root\",\n",
    "  passwd=\"superadmin123\",\n",
    "  database=\"bug_tracker_aggregate\"\n",
    ")\n",
    "\n",
    "cursor = db.cursor(dictionary=True)\n",
    "\n",
    "# query to answer the question\n",
    "query = '''\n",
    "SELECT COUNT(*) ticket_count \n",
    "FROM (\n",
    "    SELECT\n",
    "        t.id,\n",
    "        DATEDIFF(t.date_completed, t.date_created) AS completed\n",
    "    FROM tickets t \n",
    "    WHERE t.date_completed IS NOT NULL \n",
    "    HAVING completed <= 10\n",
    ") AS quickly_completed_tickets\n",
    "'''\n",
    "\n",
    "cursor.execute(query)\n",
    "\n",
    "print(*cursor.fetchall(), sep='\\n')\n",
    "cursor.close()\n",
    "db.close() "
   ]
  },
  {
   "attachments": {},
   "cell_type": "markdown",
   "metadata": {},
   "source": [
    "### Question 6: _Find tickets that took _more than 80 days_ to complete._"
   ]
  },
  {
   "cell_type": "code",
   "execution_count": null,
   "metadata": {},
   "outputs": [],
   "source": [
    "db = mysql.connector.connect(\n",
    "  host=host,\n",
    "  user=\"root\",\n",
    "  passwd=\"superadmin123\",\n",
    "  database=\"bug_tracker_aggregate\"\n",
    ")\n",
    "\n",
    "cursor = db.cursor(dictionary=True)\n",
    "\n",
    "# query to answer the question\n",
    "query = '''\n",
    "SELECT COUNT(*) ticket_count \n",
    "FROM (\n",
    "    SELECT\n",
    "        t.id,\n",
    "        DATEDIFF(t.date_completed, t.date_created) AS completed\n",
    "    FROM tickets t \n",
    "    WHERE t.date_completed IS NOT NULL \n",
    "    HAVING completed > 80\n",
    ") AS quickly_completed_tickets\n",
    "'''\n",
    "\n",
    "cursor.execute(query)\n",
    "\n",
    "print(*cursor.fetchall(), sep='\\n')\n",
    "cursor.close()\n",
    "db.close()"
   ]
  },
  {
   "attachments": {},
   "cell_type": "markdown",
   "metadata": {},
   "source": [
    "### Question 7: _How can you find tickets that were updated before July 10th, 2020 but not more than one month before?_"
   ]
  },
  {
   "cell_type": "code",
   "execution_count": null,
   "metadata": {},
   "outputs": [],
   "source": [
    "db = mysql.connector.connect(\n",
    "  host=host,\n",
    "  user=\"root\",\n",
    "  passwd=\"superadmin123\",\n",
    "  database=\"bug_tracker_aggregate\"\n",
    ")\n",
    "\n",
    "cursor = db.cursor(dictionary=True)\n",
    "\n",
    "# query to answer the question\n",
    "query = '''\n",
    "    SELECT *\n",
    "    FROM tickets\n",
    "    WHERE date_updated > '2020-06-10' AND date_updated < '2020-07-10'\n",
    "'''\n",
    "\n",
    "cursor.execute(query)\n",
    "\n",
    "print(*cursor.fetchall(), sep='\\n')\n",
    "cursor.close()\n",
    "db.close()"
   ]
  },
  {
   "attachments": {},
   "cell_type": "markdown",
   "metadata": {},
   "source": [
    "---"
   ]
  }
 ],
 "metadata": {
  "environment": {
   "name": "common-cpu.m50",
   "type": "gcloud",
   "uri": "gcr.io/deeplearning-platform-release/base-cpu:m50"
  },
  "kernelspec": {
   "display_name": "Python 3",
   "language": "python",
   "name": "python3"
  },
  "language_info": {
   "codemirror_mode": {
    "name": "ipython",
    "version": 3
   },
   "file_extension": ".py",
   "mimetype": "text/x-python",
   "name": "python",
   "nbconvert_exporter": "python",
   "pygments_lexer": "ipython3",
   "version": "3.7.12"
  }
 },
 "nbformat": 4,
 "nbformat_minor": 4
}
